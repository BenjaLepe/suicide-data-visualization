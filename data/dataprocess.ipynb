{
 "metadata": {
  "language_info": {
   "codemirror_mode": {
    "name": "ipython",
    "version": 3
   },
   "file_extension": ".py",
   "mimetype": "text/x-python",
   "name": "python",
   "nbconvert_exporter": "python",
   "pygments_lexer": "ipython3",
   "version": "3.8.3-final"
  },
  "orig_nbformat": 2,
  "kernelspec": {
   "name": "python3",
   "display_name": "Python 3"
  }
 },
 "nbformat": 4,
 "nbformat_minor": 2,
 "cells": [
  {
   "cell_type": "code",
   "execution_count": 3,
   "metadata": {},
   "outputs": [],
   "source": [
    "import pandas as pd\n",
    "import numpy as np \n",
    "import json"
   ]
  },
  {
   "cell_type": "code",
   "execution_count": 4,
   "metadata": {},
   "outputs": [],
   "source": [
    "data = pd.read_csv(\"who_suicide_statistics.csv\")"
   ]
  },
  {
   "cell_type": "code",
   "execution_count": 5,
   "metadata": {},
   "outputs": [
    {
     "output_type": "execute_result",
     "data": {
      "text/plain": [
       "                    country  year     sex          age  suicides_no  \\\n",
       "24                  Albania  1987  female  15-24 years         14.0   \n",
       "25                  Albania  1987  female  25-34 years          4.0   \n",
       "26                  Albania  1987  female  35-54 years          6.0   \n",
       "27                  Albania  1987  female   5-14 years          0.0   \n",
       "28                  Albania  1987  female  55-74 years          0.0   \n",
       "...                     ...   ...     ...          ...          ...   \n",
       "43759  Virgin Islands (USA)  2015    male  25-34 years          2.0   \n",
       "43760  Virgin Islands (USA)  2015    male  35-54 years          1.0   \n",
       "43761  Virgin Islands (USA)  2015    male   5-14 years          0.0   \n",
       "43762  Virgin Islands (USA)  2015    male  55-74 years          0.0   \n",
       "43763  Virgin Islands (USA)  2015    male    75+ years          0.0   \n",
       "\n",
       "       population  \n",
       "24       289700.0  \n",
       "25       257200.0  \n",
       "26       278800.0  \n",
       "27       311000.0  \n",
       "28       144600.0  \n",
       "...           ...  \n",
       "43759      4609.0  \n",
       "43760     12516.0  \n",
       "43761      7291.0  \n",
       "43762     12615.0  \n",
       "43763      2496.0  \n",
       "\n",
       "[36060 rows x 6 columns]"
      ],
      "text/html": "<div>\n<style scoped>\n    .dataframe tbody tr th:only-of-type {\n        vertical-align: middle;\n    }\n\n    .dataframe tbody tr th {\n        vertical-align: top;\n    }\n\n    .dataframe thead th {\n        text-align: right;\n    }\n</style>\n<table border=\"1\" class=\"dataframe\">\n  <thead>\n    <tr style=\"text-align: right;\">\n      <th></th>\n      <th>country</th>\n      <th>year</th>\n      <th>sex</th>\n      <th>age</th>\n      <th>suicides_no</th>\n      <th>population</th>\n    </tr>\n  </thead>\n  <tbody>\n    <tr>\n      <th>24</th>\n      <td>Albania</td>\n      <td>1987</td>\n      <td>female</td>\n      <td>15-24 years</td>\n      <td>14.0</td>\n      <td>289700.0</td>\n    </tr>\n    <tr>\n      <th>25</th>\n      <td>Albania</td>\n      <td>1987</td>\n      <td>female</td>\n      <td>25-34 years</td>\n      <td>4.0</td>\n      <td>257200.0</td>\n    </tr>\n    <tr>\n      <th>26</th>\n      <td>Albania</td>\n      <td>1987</td>\n      <td>female</td>\n      <td>35-54 years</td>\n      <td>6.0</td>\n      <td>278800.0</td>\n    </tr>\n    <tr>\n      <th>27</th>\n      <td>Albania</td>\n      <td>1987</td>\n      <td>female</td>\n      <td>5-14 years</td>\n      <td>0.0</td>\n      <td>311000.0</td>\n    </tr>\n    <tr>\n      <th>28</th>\n      <td>Albania</td>\n      <td>1987</td>\n      <td>female</td>\n      <td>55-74 years</td>\n      <td>0.0</td>\n      <td>144600.0</td>\n    </tr>\n    <tr>\n      <th>...</th>\n      <td>...</td>\n      <td>...</td>\n      <td>...</td>\n      <td>...</td>\n      <td>...</td>\n      <td>...</td>\n    </tr>\n    <tr>\n      <th>43759</th>\n      <td>Virgin Islands (USA)</td>\n      <td>2015</td>\n      <td>male</td>\n      <td>25-34 years</td>\n      <td>2.0</td>\n      <td>4609.0</td>\n    </tr>\n    <tr>\n      <th>43760</th>\n      <td>Virgin Islands (USA)</td>\n      <td>2015</td>\n      <td>male</td>\n      <td>35-54 years</td>\n      <td>1.0</td>\n      <td>12516.0</td>\n    </tr>\n    <tr>\n      <th>43761</th>\n      <td>Virgin Islands (USA)</td>\n      <td>2015</td>\n      <td>male</td>\n      <td>5-14 years</td>\n      <td>0.0</td>\n      <td>7291.0</td>\n    </tr>\n    <tr>\n      <th>43762</th>\n      <td>Virgin Islands (USA)</td>\n      <td>2015</td>\n      <td>male</td>\n      <td>55-74 years</td>\n      <td>0.0</td>\n      <td>12615.0</td>\n    </tr>\n    <tr>\n      <th>43763</th>\n      <td>Virgin Islands (USA)</td>\n      <td>2015</td>\n      <td>male</td>\n      <td>75+ years</td>\n      <td>0.0</td>\n      <td>2496.0</td>\n    </tr>\n  </tbody>\n</table>\n<p>36060 rows × 6 columns</p>\n</div>"
     },
     "metadata": {},
     "execution_count": 5
    }
   ],
   "source": [
    "df = pd.DataFrame(data)\n",
    "countrys = pd.unique(df[df[\"year\"] == 2013][\"country\"])\n",
    "df_wout_nan = df.dropna()\n",
    "df_wout_nan"
   ]
  },
  {
   "cell_type": "code",
   "execution_count": 6,
   "metadata": {
    "tags": []
   },
   "outputs": [],
   "source": [
    "countrys_avg = dict()\n",
    "for country in countrys:\n",
    "    countrys_avg[country] = df_wout_nan[df_wout_nan[\"country\"] == country].groupby([\"year\"])[\"suicides_no\"].sum().mean()\n",
    "\n"
   ]
  },
  {
   "cell_type": "code",
   "execution_count": 21,
   "metadata": {},
   "outputs": [],
   "source": [
    "rangos_etarios = ['5-14 years', '15-24 years', '25-34 years', '35-54 years',\n",
    "       '55-74 years', '75+ years']"
   ]
  },
  {
   "cell_type": "code",
   "execution_count": 7,
   "metadata": {},
   "outputs": [
    {
     "output_type": "execute_result",
     "data": {
      "text/plain": [
       "1776.0"
      ]
     },
     "metadata": {},
     "execution_count": 7
    }
   ],
   "source": [
    "rangos_etarios = df[\"age\"].unique()\n",
    "sexos = df[\"sex\"].unique()\n",
    "df[df[\"country\"] == \"Chile\"].groupby([\"age\", \"sex\"])[\"suicides_no\"].sum()['15-24 years'][\"female\"]"
   ]
  },
  {
   "cell_type": "code",
   "execution_count": 24,
   "metadata": {
    "tags": []
   },
   "outputs": [],
   "source": [
    "\n",
    "datos = []\n",
    "df = df_wout_nan\n",
    "# Resumen de suicidios 2015\n",
    "for country in countrys:\n",
    "    country_summary = {}\n",
    "    country_summary[\"pais\"] = country\n",
    "    value = df[(df[\"country\"] == country) & (df[\"year\"] == 2013)][\"suicides_no\"].sum() / df[(df[\"country\"] == country) & (df[\"year\"] == 2013)][\"population\"].sum()\n",
    "    if not np.isnan(value):\n",
    "        country_summary[\"summary\"] =  (value*100000) #Numero de suicidios por cada 100.000 Habitantes\n",
    "    else:\n",
    "        continue\n",
    "    \n",
    "    country_summary[\"rango_etario\"] = []\n",
    "    rango_etario = df[(df[\"country\"] == country) & (df[\"year\"] == 2013)].groupby([\"age\", \"sex\"])[\"suicides_no\"].sum()\n",
    "    for rango in rangos_etarios:\n",
    "        dicto = {\"rango\": rango, \"values\": []}\n",
    "        for sex in sexos:\n",
    "            dicto[\"values\"].append({\"sex\": sex,\"rate\" : rango_etario[rango][sex]})\n",
    "        country_summary[\"rango_etario\"].append(dicto)\n",
    "    \n",
    "    country_summary[\"years\"] = []\n",
    "    # Para cada año vemos si hubieron suicidios y los agregamos al diccionario\n",
    "    for year in range(1987, 2014):\n",
    "        year_sum = df[(df[\"country\"] == country) & (df[\"year\"] == year)][\"suicides_no\"].sum()\n",
    "        if year_sum.any():\n",
    "            country_summary[\"years\"].append({\"year\" :str(year), \"suicides\": year_sum})\n",
    "        else:\n",
    "            country_summary[\"years\"].append({\"year\" : str(year), \"suicides\": int(countrys_avg[country])})\n",
    "    datos.append(country_summary)\n"
   ]
  },
  {
   "cell_type": "code",
   "execution_count": 25,
   "metadata": {},
   "outputs": [],
   "source": [
    "with open('data.json', 'w') as outfile:\n",
    "    json.dump(datos, outfile, indent=4)"
   ]
  },
  {
   "cell_type": "code",
   "execution_count": null,
   "metadata": {},
   "outputs": [],
   "source": []
  }
 ]
}